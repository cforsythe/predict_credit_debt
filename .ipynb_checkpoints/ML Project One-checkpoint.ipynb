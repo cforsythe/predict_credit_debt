{
 "cells": [
  {
   "cell_type": "markdown",
   "metadata": {},
   "source": [
    "# Predicting credit card debt from UCI dataset"
   ]
  },
  {
   "cell_type": "markdown",
   "metadata": {},
   "source": [
    "## by Christopher Forsythe, Daniel Deleon, Jose Garcia"
   ]
  },
  {
   "cell_type": "markdown",
   "metadata": {},
   "source": [
    "### Introduction"
   ]
  },
  {
   "cell_type": "code",
   "execution_count": null,
   "metadata": {},
   "outputs": [],
   "source": []
  },
  {
   "cell_type": "markdown",
   "metadata": {},
   "source": [
    "### Exploration"
   ]
  },
  {
   "cell_type": "code",
   "execution_count": 44,
   "metadata": {},
   "outputs": [],
   "source": [
    "import pandas as pd\n",
    "import seaborn as sns\n",
    "import matplotlib.pyplot as plt"
   ]
  },
  {
   "cell_type": "code",
   "execution_count": 45,
   "metadata": {},
   "outputs": [],
   "source": [
    "df = pd.read_csv(\"default_cc_train.csv\")"
   ]
  },
  {
   "cell_type": "markdown",
   "metadata": {},
   "source": [
    "Looking at a summary of the data"
   ]
  },
  {
   "cell_type": "code",
   "execution_count": 46,
   "metadata": {},
   "outputs": [
    {
     "data": {
      "text/html": [
       "<div>\n",
       "<style scoped>\n",
       "    .dataframe tbody tr th:only-of-type {\n",
       "        vertical-align: middle;\n",
       "    }\n",
       "\n",
       "    .dataframe tbody tr th {\n",
       "        vertical-align: top;\n",
       "    }\n",
       "\n",
       "    .dataframe thead th {\n",
       "        text-align: right;\n",
       "    }\n",
       "</style>\n",
       "<table border=\"1\" class=\"dataframe\">\n",
       "  <thead>\n",
       "    <tr style=\"text-align: right;\">\n",
       "      <th></th>\n",
       "      <th>ID</th>\n",
       "      <th>LIMIT_BAL</th>\n",
       "      <th>SEX</th>\n",
       "      <th>EDUCATION</th>\n",
       "      <th>MARRIAGE</th>\n",
       "      <th>AGE</th>\n",
       "      <th>PAY_0</th>\n",
       "      <th>PAY_2</th>\n",
       "      <th>PAY_3</th>\n",
       "      <th>PAY_4</th>\n",
       "      <th>...</th>\n",
       "      <th>BILL_AMT4</th>\n",
       "      <th>BILL_AMT5</th>\n",
       "      <th>BILL_AMT6</th>\n",
       "      <th>PAY_AMT1</th>\n",
       "      <th>PAY_AMT2</th>\n",
       "      <th>PAY_AMT3</th>\n",
       "      <th>PAY_AMT4</th>\n",
       "      <th>PAY_AMT5</th>\n",
       "      <th>PAY_AMT6</th>\n",
       "      <th>default.payment.next.month</th>\n",
       "    </tr>\n",
       "  </thead>\n",
       "  <tbody>\n",
       "    <tr>\n",
       "      <th>count</th>\n",
       "      <td>25000.000000</td>\n",
       "      <td>25000.000000</td>\n",
       "      <td>25000.000000</td>\n",
       "      <td>25000.000000</td>\n",
       "      <td>25000.000000</td>\n",
       "      <td>25000.000000</td>\n",
       "      <td>25000.000000</td>\n",
       "      <td>25000.000000</td>\n",
       "      <td>25000.00000</td>\n",
       "      <td>25000.000000</td>\n",
       "      <td>...</td>\n",
       "      <td>25000.000000</td>\n",
       "      <td>25000.000000</td>\n",
       "      <td>25000.000000</td>\n",
       "      <td>25000.00000</td>\n",
       "      <td>2.500000e+04</td>\n",
       "      <td>25000.000000</td>\n",
       "      <td>25000.000000</td>\n",
       "      <td>25000.000000</td>\n",
       "      <td>25000.000000</td>\n",
       "      <td>25000.000000</td>\n",
       "    </tr>\n",
       "    <tr>\n",
       "      <th>mean</th>\n",
       "      <td>14977.844760</td>\n",
       "      <td>167244.387200</td>\n",
       "      <td>1.604360</td>\n",
       "      <td>1.853920</td>\n",
       "      <td>1.552920</td>\n",
       "      <td>35.461320</td>\n",
       "      <td>-0.019000</td>\n",
       "      <td>-0.134400</td>\n",
       "      <td>-0.16464</td>\n",
       "      <td>-0.218280</td>\n",
       "      <td>...</td>\n",
       "      <td>43300.725640</td>\n",
       "      <td>40275.052440</td>\n",
       "      <td>38915.765600</td>\n",
       "      <td>5672.70844</td>\n",
       "      <td>5.866362e+03</td>\n",
       "      <td>5220.811240</td>\n",
       "      <td>4821.460360</td>\n",
       "      <td>4838.123440</td>\n",
       "      <td>5209.749440</td>\n",
       "      <td>0.220560</td>\n",
       "    </tr>\n",
       "    <tr>\n",
       "      <th>std</th>\n",
       "      <td>8662.539837</td>\n",
       "      <td>129543.574364</td>\n",
       "      <td>0.488998</td>\n",
       "      <td>0.789408</td>\n",
       "      <td>0.521776</td>\n",
       "      <td>9.197019</td>\n",
       "      <td>1.119665</td>\n",
       "      <td>1.194719</td>\n",
       "      <td>1.19609</td>\n",
       "      <td>1.167651</td>\n",
       "      <td>...</td>\n",
       "      <td>64376.490314</td>\n",
       "      <td>60640.453002</td>\n",
       "      <td>59585.622139</td>\n",
       "      <td>16002.16693</td>\n",
       "      <td>2.011322e+04</td>\n",
       "      <td>17116.197319</td>\n",
       "      <td>15194.636443</td>\n",
       "      <td>15246.074819</td>\n",
       "      <td>17747.788739</td>\n",
       "      <td>0.414633</td>\n",
       "    </tr>\n",
       "    <tr>\n",
       "      <th>min</th>\n",
       "      <td>1.000000</td>\n",
       "      <td>10000.000000</td>\n",
       "      <td>1.000000</td>\n",
       "      <td>0.000000</td>\n",
       "      <td>0.000000</td>\n",
       "      <td>21.000000</td>\n",
       "      <td>-2.000000</td>\n",
       "      <td>-2.000000</td>\n",
       "      <td>-2.00000</td>\n",
       "      <td>-2.000000</td>\n",
       "      <td>...</td>\n",
       "      <td>-170000.000000</td>\n",
       "      <td>-81334.000000</td>\n",
       "      <td>-209051.000000</td>\n",
       "      <td>0.00000</td>\n",
       "      <td>0.000000e+00</td>\n",
       "      <td>0.000000</td>\n",
       "      <td>0.000000</td>\n",
       "      <td>0.000000</td>\n",
       "      <td>0.000000</td>\n",
       "      <td>0.000000</td>\n",
       "    </tr>\n",
       "    <tr>\n",
       "      <th>25%</th>\n",
       "      <td>7449.500000</td>\n",
       "      <td>50000.000000</td>\n",
       "      <td>1.000000</td>\n",
       "      <td>1.000000</td>\n",
       "      <td>1.000000</td>\n",
       "      <td>28.000000</td>\n",
       "      <td>-1.000000</td>\n",
       "      <td>-1.000000</td>\n",
       "      <td>-1.00000</td>\n",
       "      <td>-1.000000</td>\n",
       "      <td>...</td>\n",
       "      <td>2314.750000</td>\n",
       "      <td>1747.000000</td>\n",
       "      <td>1240.000000</td>\n",
       "      <td>990.00000</td>\n",
       "      <td>8.360000e+02</td>\n",
       "      <td>390.000000</td>\n",
       "      <td>299.000000</td>\n",
       "      <td>264.000000</td>\n",
       "      <td>107.750000</td>\n",
       "      <td>0.000000</td>\n",
       "    </tr>\n",
       "    <tr>\n",
       "      <th>50%</th>\n",
       "      <td>14987.500000</td>\n",
       "      <td>140000.000000</td>\n",
       "      <td>2.000000</td>\n",
       "      <td>2.000000</td>\n",
       "      <td>2.000000</td>\n",
       "      <td>34.000000</td>\n",
       "      <td>0.000000</td>\n",
       "      <td>0.000000</td>\n",
       "      <td>0.00000</td>\n",
       "      <td>0.000000</td>\n",
       "      <td>...</td>\n",
       "      <td>19119.500000</td>\n",
       "      <td>18146.000000</td>\n",
       "      <td>17115.500000</td>\n",
       "      <td>2102.50000</td>\n",
       "      <td>2.016000e+03</td>\n",
       "      <td>1800.000000</td>\n",
       "      <td>1500.000000</td>\n",
       "      <td>1500.000000</td>\n",
       "      <td>1500.000000</td>\n",
       "      <td>0.000000</td>\n",
       "    </tr>\n",
       "    <tr>\n",
       "      <th>75%</th>\n",
       "      <td>22467.250000</td>\n",
       "      <td>240000.000000</td>\n",
       "      <td>2.000000</td>\n",
       "      <td>2.000000</td>\n",
       "      <td>2.000000</td>\n",
       "      <td>41.000000</td>\n",
       "      <td>0.000000</td>\n",
       "      <td>0.000000</td>\n",
       "      <td>0.00000</td>\n",
       "      <td>0.000000</td>\n",
       "      <td>...</td>\n",
       "      <td>54591.500000</td>\n",
       "      <td>50245.500000</td>\n",
       "      <td>49319.250000</td>\n",
       "      <td>5011.00000</td>\n",
       "      <td>5.000000e+03</td>\n",
       "      <td>4513.000000</td>\n",
       "      <td>4023.750000</td>\n",
       "      <td>4057.250000</td>\n",
       "      <td>4006.000000</td>\n",
       "      <td>0.000000</td>\n",
       "    </tr>\n",
       "    <tr>\n",
       "      <th>max</th>\n",
       "      <td>30000.000000</td>\n",
       "      <td>1000000.000000</td>\n",
       "      <td>2.000000</td>\n",
       "      <td>6.000000</td>\n",
       "      <td>3.000000</td>\n",
       "      <td>79.000000</td>\n",
       "      <td>8.000000</td>\n",
       "      <td>8.000000</td>\n",
       "      <td>8.00000</td>\n",
       "      <td>8.000000</td>\n",
       "      <td>...</td>\n",
       "      <td>891586.000000</td>\n",
       "      <td>927171.000000</td>\n",
       "      <td>961664.000000</td>\n",
       "      <td>505000.00000</td>\n",
       "      <td>1.227082e+06</td>\n",
       "      <td>896040.000000</td>\n",
       "      <td>528897.000000</td>\n",
       "      <td>426529.000000</td>\n",
       "      <td>528666.000000</td>\n",
       "      <td>1.000000</td>\n",
       "    </tr>\n",
       "  </tbody>\n",
       "</table>\n",
       "<p>8 rows × 25 columns</p>\n",
       "</div>"
      ],
      "text/plain": [
       "                 ID       LIMIT_BAL           SEX     EDUCATION      MARRIAGE  \\\n",
       "count  25000.000000    25000.000000  25000.000000  25000.000000  25000.000000   \n",
       "mean   14977.844760   167244.387200      1.604360      1.853920      1.552920   \n",
       "std     8662.539837   129543.574364      0.488998      0.789408      0.521776   \n",
       "min        1.000000    10000.000000      1.000000      0.000000      0.000000   \n",
       "25%     7449.500000    50000.000000      1.000000      1.000000      1.000000   \n",
       "50%    14987.500000   140000.000000      2.000000      2.000000      2.000000   \n",
       "75%    22467.250000   240000.000000      2.000000      2.000000      2.000000   \n",
       "max    30000.000000  1000000.000000      2.000000      6.000000      3.000000   \n",
       "\n",
       "                AGE         PAY_0         PAY_2        PAY_3         PAY_4  \\\n",
       "count  25000.000000  25000.000000  25000.000000  25000.00000  25000.000000   \n",
       "mean      35.461320     -0.019000     -0.134400     -0.16464     -0.218280   \n",
       "std        9.197019      1.119665      1.194719      1.19609      1.167651   \n",
       "min       21.000000     -2.000000     -2.000000     -2.00000     -2.000000   \n",
       "25%       28.000000     -1.000000     -1.000000     -1.00000     -1.000000   \n",
       "50%       34.000000      0.000000      0.000000      0.00000      0.000000   \n",
       "75%       41.000000      0.000000      0.000000      0.00000      0.000000   \n",
       "max       79.000000      8.000000      8.000000      8.00000      8.000000   \n",
       "\n",
       "                  ...                  BILL_AMT4      BILL_AMT5  \\\n",
       "count             ...               25000.000000   25000.000000   \n",
       "mean              ...               43300.725640   40275.052440   \n",
       "std               ...               64376.490314   60640.453002   \n",
       "min               ...             -170000.000000  -81334.000000   \n",
       "25%               ...                2314.750000    1747.000000   \n",
       "50%               ...               19119.500000   18146.000000   \n",
       "75%               ...               54591.500000   50245.500000   \n",
       "max               ...              891586.000000  927171.000000   \n",
       "\n",
       "           BILL_AMT6      PAY_AMT1      PAY_AMT2       PAY_AMT3  \\\n",
       "count   25000.000000   25000.00000  2.500000e+04   25000.000000   \n",
       "mean    38915.765600    5672.70844  5.866362e+03    5220.811240   \n",
       "std     59585.622139   16002.16693  2.011322e+04   17116.197319   \n",
       "min   -209051.000000       0.00000  0.000000e+00       0.000000   \n",
       "25%      1240.000000     990.00000  8.360000e+02     390.000000   \n",
       "50%     17115.500000    2102.50000  2.016000e+03    1800.000000   \n",
       "75%     49319.250000    5011.00000  5.000000e+03    4513.000000   \n",
       "max    961664.000000  505000.00000  1.227082e+06  896040.000000   \n",
       "\n",
       "            PAY_AMT4       PAY_AMT5       PAY_AMT6  default.payment.next.month  \n",
       "count   25000.000000   25000.000000   25000.000000                25000.000000  \n",
       "mean     4821.460360    4838.123440    5209.749440                    0.220560  \n",
       "std     15194.636443   15246.074819   17747.788739                    0.414633  \n",
       "min         0.000000       0.000000       0.000000                    0.000000  \n",
       "25%       299.000000     264.000000     107.750000                    0.000000  \n",
       "50%      1500.000000    1500.000000    1500.000000                    0.000000  \n",
       "75%      4023.750000    4057.250000    4006.000000                    0.000000  \n",
       "max    528897.000000  426529.000000  528666.000000                    1.000000  \n",
       "\n",
       "[8 rows x 25 columns]"
      ]
     },
     "execution_count": 46,
     "metadata": {},
     "output_type": "execute_result"
    }
   ],
   "source": [
    "df.describe()"
   ]
  },
  {
   "cell_type": "markdown",
   "metadata": {},
   "source": [
    "Lets check to see if there is any NA's in the dataset"
   ]
  },
  {
   "cell_type": "code",
   "execution_count": 52,
   "metadata": {},
   "outputs": [
    {
     "data": {
      "text/plain": [
       "ID                            0\n",
       "LIMIT_BAL                     0\n",
       "SEX                           0\n",
       "EDUCATION                     0\n",
       "MARRIAGE                      0\n",
       "AGE                           0\n",
       "PAY_0                         0\n",
       "PAY_2                         0\n",
       "PAY_3                         0\n",
       "PAY_4                         0\n",
       "PAY_5                         0\n",
       "PAY_6                         0\n",
       "BILL_AMT1                     0\n",
       "BILL_AMT2                     0\n",
       "BILL_AMT3                     0\n",
       "BILL_AMT4                     0\n",
       "BILL_AMT5                     0\n",
       "BILL_AMT6                     0\n",
       "PAY_AMT1                      0\n",
       "PAY_AMT2                      0\n",
       "PAY_AMT3                      0\n",
       "PAY_AMT4                      0\n",
       "PAY_AMT5                      0\n",
       "PAY_AMT6                      0\n",
       "default.payment.next.month    0\n",
       "dtype: int64"
      ]
     },
     "execution_count": 52,
     "metadata": {},
     "output_type": "execute_result"
    }
   ],
   "source": [
    "df.isna().sum()"
   ]
  },
  {
   "cell_type": "markdown",
   "metadata": {},
   "source": [
    "I want to get an idea of the age distribution to see if maybe it could have an effect on defaulting on payments. I ended up removing ages > 73 to make the bins better because there are only 3 people older than 73 so I didn't have enough data. This data seems to not really have any significant correlation"
   ]
  },
  {
   "cell_type": "code",
   "execution_count": 49,
   "metadata": {},
   "outputs": [
    {
     "data": {
      "text/plain": [
       "Text(0.5,0,'Age')"
      ]
     },
     "execution_count": 49,
     "metadata": {},
     "output_type": "execute_result"
    },
    {
     "data": {
      "image/png": "[encoded data removed]",
      "text/plain": [
       "<Figure size 432x288 with 1 Axes>"
      ]
     },
     "metadata": {},
     "output_type": "display_data"
    }
   ],
   "source": [
    "labels = [\"20-26\", \"26-31\", \"31-36\", \"36-41\", \"41-46\", \"46-52\", \"52-57\", \"57-61\", \"61-67\",\"67-72\"]\n",
    "binned_ages = pd.cut(df[df.AGE < 73].AGE, 10, labels=labels)\n",
    "sns.barplot(binned_ages, 'default.payment.next.month', data=df[df.AGE < 73], )\n",
    "plt.title(\"Mean default by age\")\n",
    "plt.ylabel(\"Mean default\")\n",
    "plt.xlabel(\"Age\")"
   ]
  },
  {
   "cell_type": "markdown",
   "metadata": {},
   "source": [
    "### Preprocessing"
   ]
  },
  {
   "cell_type": "code",
   "execution_count": null,
   "metadata": {},
   "outputs": [],
   "source": []
  },
  {
   "cell_type": "markdown",
   "metadata": {},
   "source": [
    "### Experiments/Dimensionality Reduction"
   ]
  },
  {
   "cell_type": "code",
   "execution_count": null,
   "metadata": {},
   "outputs": [],
   "source": []
  },
  {
   "cell_type": "markdown",
   "metadata": {},
   "source": [
    "### Ensemble Learning"
   ]
  },
  {
   "cell_type": "code",
   "execution_count": null,
   "metadata": {},
   "outputs": [],
   "source": []
  },
  {
   "cell_type": "markdown",
   "metadata": {},
   "source": [
    "### SVM"
   ]
  },
  {
   "cell_type": "code",
   "execution_count": null,
   "metadata": {},
   "outputs": [],
   "source": []
  },
  {
   "cell_type": "markdown",
   "metadata": {},
   "source": [
    "### Gridsearch"
   ]
  },
  {
   "cell_type": "code",
   "execution_count": null,
   "metadata": {},
   "outputs": [],
   "source": []
  },
  {
   "cell_type": "markdown",
   "metadata": {},
   "source": [
    "### Analyses"
   ]
  },
  {
   "cell_type": "code",
   "execution_count": null,
   "metadata": {},
   "outputs": [],
   "source": []
  },
  {
   "cell_type": "markdown",
   "metadata": {},
   "source": [
    "### Performance"
   ]
  },
  {
   "cell_type": "code",
   "execution_count": null,
   "metadata": {},
   "outputs": [],
   "source": []
  }
 ],
 "metadata": {
  "kernelspec": {
   "display_name": "Python 3",
   "language": "python",
   "name": "python3"
  },
  "language_info": {
   "codemirror_mode": {
    "name": "ipython",
    "version": 3
   },
   "file_extension": ".py",
   "mimetype": "text/x-python",
   "name": "python",
   "nbconvert_exporter": "python",
   "pygments_lexer": "ipython3",
   "version": "3.6.5"
  }
 },
 "nbformat": 4,
 "nbformat_minor": 2
}
